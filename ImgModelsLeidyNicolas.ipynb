{
 "cells": [
  {
   "cell_type": "markdown",
   "metadata": {},
   "source": [
    "## <span style=\"color:orange\">Nicolas Leguizamón, código: 201727960 </span>\n",
    "## <span style=\"color:orange\">Leidy Araque Molina, código: 201727196 </span>"
   ]
  },
  {
   "cell_type": "markdown",
   "metadata": {},
   "source": [
    " <h1> <center> <span style=\"color:orange\"> FINAL PROJECT - IMAGE MODELS</span></center></h1>"
   ]
  },
  {
   "cell_type": "code",
   "execution_count": 15,
   "metadata": {
    "collapsed": true
   },
   "outputs": [],
   "source": [
    "import pandas as pd\n",
    "import os\n",
    "import numpy as np\n",
    "from sklearn.preprocessing import MultiLabelBinarizer\n",
    "from sklearn.multiclass import OneVsRestClassifier\n",
    "from sklearn.ensemble import RandomForestRegressor, RandomForestClassifier\n",
    "from sklearn.metrics import r2_score, roc_auc_score\n",
    "from sklearn.model_selection import train_test_split\n",
    "from sklearn.decomposition import PCA\n",
    "import matplotlib.pyplot as plt\n",
    "from tqdm import tqdm\n",
    "from keras.models import Sequential\n",
    "from keras.layers import Dense, Dropout, Activation, Flatten\n",
    "from skimage import io\n",
    "from keras.preprocessing import image\n",
    "from keras.applications.imagenet_utils import preprocess_input, decode_predictions\n",
    "from keras.utils import np_utils\n",
    "from keras.preprocessing.image import ImageDataGenerator, array_to_img, img_to_array, load_img\n",
    "from livelossplot import PlotLossesKeras\n",
    "%matplotlib inline"
   ]
  },
  {
   "cell_type": "markdown",
   "metadata": {},
   "source": [
    "# Read Data"
   ]
  },
  {
   "cell_type": "code",
   "execution_count": 2,
   "metadata": {
    "collapsed": true
   },
   "outputs": [],
   "source": [
    "path = 'C:\\\\Users\\\\AsusPC\\\\Documents\\\\Analytics\\\\2018-Vacacional\\\\DeepLearning\\\\Project'"
   ]
  },
  {
   "cell_type": "code",
   "execution_count": 3,
   "metadata": {
    "collapsed": true
   },
   "outputs": [],
   "source": [
    "dataTraining = pd.read_csv(os.path.join(path, 'data', 'dataTraining.csv'), encoding='UTF-8', index_col=0)\n",
    "dataTesting = pd.read_csv(os.path.join(path, 'data', 'dataTesting.csv'), encoding='UTF-8', index_col=0)"
   ]
  },
  {
   "cell_type": "code",
   "execution_count": 4,
   "metadata": {},
   "outputs": [
    {
     "data": {
      "text/html": [
       "<div>\n",
       "<style scoped>\n",
       "    .dataframe tbody tr th:only-of-type {\n",
       "        vertical-align: middle;\n",
       "    }\n",
       "\n",
       "    .dataframe tbody tr th {\n",
       "        vertical-align: top;\n",
       "    }\n",
       "\n",
       "    .dataframe thead th {\n",
       "        text-align: right;\n",
       "    }\n",
       "</style>\n",
       "<table border=\"1\" class=\"dataframe\">\n",
       "  <thead>\n",
       "    <tr style=\"text-align: right;\">\n",
       "      <th></th>\n",
       "      <th>year</th>\n",
       "      <th>title</th>\n",
       "      <th>plot</th>\n",
       "      <th>genres</th>\n",
       "      <th>rating</th>\n",
       "    </tr>\n",
       "  </thead>\n",
       "  <tbody>\n",
       "    <tr>\n",
       "      <th>3107</th>\n",
       "      <td>2003</td>\n",
       "      <td>Most</td>\n",
       "      <td>most is the story of a single father who takes...</td>\n",
       "      <td>['Short', 'Drama']</td>\n",
       "      <td>8.0</td>\n",
       "    </tr>\n",
       "    <tr>\n",
       "      <th>900</th>\n",
       "      <td>2008</td>\n",
       "      <td>How to Be a Serial Killer</td>\n",
       "      <td>a serial killer decides to teach the secrets o...</td>\n",
       "      <td>['Comedy', 'Crime', 'Horror']</td>\n",
       "      <td>5.6</td>\n",
       "    </tr>\n",
       "    <tr>\n",
       "      <th>6724</th>\n",
       "      <td>1941</td>\n",
       "      <td>A Woman's Face</td>\n",
       "      <td>in sweden ,  a female blackmailer with a disfi...</td>\n",
       "      <td>['Drama', 'Film-Noir', 'Thriller']</td>\n",
       "      <td>7.2</td>\n",
       "    </tr>\n",
       "    <tr>\n",
       "      <th>4704</th>\n",
       "      <td>1954</td>\n",
       "      <td>Executive Suite</td>\n",
       "      <td>in a friday afternoon in new york ,  the presi...</td>\n",
       "      <td>['Drama']</td>\n",
       "      <td>7.4</td>\n",
       "    </tr>\n",
       "    <tr>\n",
       "      <th>2582</th>\n",
       "      <td>1990</td>\n",
       "      <td>Narrow Margin</td>\n",
       "      <td>in los angeles ,  the editor of a publishing h...</td>\n",
       "      <td>['Action', 'Crime', 'Thriller']</td>\n",
       "      <td>6.6</td>\n",
       "    </tr>\n",
       "  </tbody>\n",
       "</table>\n",
       "</div>"
      ],
      "text/plain": [
       "      year                      title  \\\n",
       "3107  2003                       Most   \n",
       "900   2008  How to Be a Serial Killer   \n",
       "6724  1941             A Woman's Face   \n",
       "4704  1954            Executive Suite   \n",
       "2582  1990              Narrow Margin   \n",
       "\n",
       "                                                   plot  \\\n",
       "3107  most is the story of a single father who takes...   \n",
       "900   a serial killer decides to teach the secrets o...   \n",
       "6724  in sweden ,  a female blackmailer with a disfi...   \n",
       "4704  in a friday afternoon in new york ,  the presi...   \n",
       "2582  in los angeles ,  the editor of a publishing h...   \n",
       "\n",
       "                                  genres  rating  \n",
       "3107                  ['Short', 'Drama']     8.0  \n",
       "900        ['Comedy', 'Crime', 'Horror']     5.6  \n",
       "6724  ['Drama', 'Film-Noir', 'Thriller']     7.2  \n",
       "4704                           ['Drama']     7.4  \n",
       "2582     ['Action', 'Crime', 'Thriller']     6.6  "
      ]
     },
     "execution_count": 4,
     "metadata": {},
     "output_type": "execute_result"
    }
   ],
   "source": [
    "dataTraining.head()"
   ]
  },
  {
   "cell_type": "code",
   "execution_count": 5,
   "metadata": {},
   "outputs": [
    {
     "data": {
      "text/html": [
       "<div>\n",
       "<style scoped>\n",
       "    .dataframe tbody tr th:only-of-type {\n",
       "        vertical-align: middle;\n",
       "    }\n",
       "\n",
       "    .dataframe tbody tr th {\n",
       "        vertical-align: top;\n",
       "    }\n",
       "\n",
       "    .dataframe thead th {\n",
       "        text-align: right;\n",
       "    }\n",
       "</style>\n",
       "<table border=\"1\" class=\"dataframe\">\n",
       "  <thead>\n",
       "    <tr style=\"text-align: right;\">\n",
       "      <th></th>\n",
       "      <th>year</th>\n",
       "      <th>title</th>\n",
       "      <th>plot</th>\n",
       "    </tr>\n",
       "  </thead>\n",
       "  <tbody>\n",
       "    <tr>\n",
       "      <th>1</th>\n",
       "      <td>1999</td>\n",
       "      <td>Message in a Bottle</td>\n",
       "      <td>who meets by fate ,  shall be sealed by fate ....</td>\n",
       "    </tr>\n",
       "    <tr>\n",
       "      <th>4</th>\n",
       "      <td>1978</td>\n",
       "      <td>Midnight Express</td>\n",
       "      <td>the true story of billy hayes ,  an american c...</td>\n",
       "    </tr>\n",
       "    <tr>\n",
       "      <th>5</th>\n",
       "      <td>1996</td>\n",
       "      <td>Primal Fear</td>\n",
       "      <td>martin vail left the chicago da ' s office to ...</td>\n",
       "    </tr>\n",
       "    <tr>\n",
       "      <th>6</th>\n",
       "      <td>1950</td>\n",
       "      <td>Crisis</td>\n",
       "      <td>husband and wife americans dr .  eugene and mr...</td>\n",
       "    </tr>\n",
       "    <tr>\n",
       "      <th>7</th>\n",
       "      <td>1959</td>\n",
       "      <td>The Tingler</td>\n",
       "      <td>the coroner and scientist dr .  warren chapin ...</td>\n",
       "    </tr>\n",
       "  </tbody>\n",
       "</table>\n",
       "</div>"
      ],
      "text/plain": [
       "   year                title  \\\n",
       "1  1999  Message in a Bottle   \n",
       "4  1978     Midnight Express   \n",
       "5  1996          Primal Fear   \n",
       "6  1950               Crisis   \n",
       "7  1959          The Tingler   \n",
       "\n",
       "                                                plot  \n",
       "1  who meets by fate ,  shall be sealed by fate ....  \n",
       "4  the true story of billy hayes ,  an american c...  \n",
       "5  martin vail left the chicago da ' s office to ...  \n",
       "6  husband and wife americans dr .  eugene and mr...  \n",
       "7  the coroner and scientist dr .  warren chapin ...  "
      ]
     },
     "execution_count": 5,
     "metadata": {},
     "output_type": "execute_result"
    }
   ],
   "source": [
    "dataTesting.head()"
   ]
  },
  {
   "cell_type": "markdown",
   "metadata": {},
   "source": [
    "# Read Images"
   ]
  },
  {
   "cell_type": "code",
   "execution_count": 6,
   "metadata": {
    "collapsed": true
   },
   "outputs": [],
   "source": [
    "image = io.imread(os.path.join(path,'data','images_resize_gray', str(dataTraining.index[0]) + '_resize_gray.jpeg'))"
   ]
  },
  {
   "cell_type": "code",
   "execution_count": 7,
   "metadata": {},
   "outputs": [
    {
     "data": {
      "text/plain": [
       "array([[ 3,  3,  3, ..., 57, 55, 51],\n",
       "       [ 3,  3,  3, ..., 99, 98, 95],\n",
       "       [ 3,  3,  3, ..., 97, 96, 94],\n",
       "       ...,\n",
       "       [ 0,  0,  0, ...,  0,  0,  0],\n",
       "       [ 0,  0,  0, ...,  0,  0,  0],\n",
       "       [ 0,  0,  0, ...,  0,  0,  0]], dtype=uint8)"
      ]
     },
     "execution_count": 7,
     "metadata": {},
     "output_type": "execute_result"
    }
   ],
   "source": [
    "image"
   ]
  },
  {
   "cell_type": "code",
   "execution_count": 8,
   "metadata": {},
   "outputs": [
    {
     "data": {
      "text/plain": [
       "<matplotlib.image.AxesImage at 0x211680655f8>"
      ]
     },
     "execution_count": 8,
     "metadata": {},
     "output_type": "execute_result"
    },
    {
     "data": {
      "image/png": "[encoded data removed]",
      "text/plain": [
       "<matplotlib.figure.Figure at 0x2116800b0f0>"
      ]
     },
     "metadata": {},
     "output_type": "display_data"
    }
   ],
   "source": [
    "fig, ax = plt.subplots(nrows=1, ncols=1)\n",
    "ax.imshow(image, cmap='gray')"
   ]
  },
  {
   "cell_type": "markdown",
   "metadata": {},
   "source": [
    "Read all images"
   ]
  },
  {
   "cell_type": "code",
   "execution_count": 9,
   "metadata": {},
   "outputs": [
    {
     "name": "stderr",
     "output_type": "stream",
     "text": [
      "100%|██████████| 7895/7895 [02:41<00:00, 48.74it/s]\n"
     ]
    }
   ],
   "source": [
    "images_training = []\n",
    "for i in tqdm(dataTraining.index):\n",
    "    images_training.append(io.imread(os.path.join(path,'data','images_resize_gray', str(i) + '_resize_gray.jpeg')).flatten())"
   ]
  },
  {
   "cell_type": "code",
   "execution_count": 10,
   "metadata": {},
   "outputs": [
    {
     "data": {
      "text/plain": [
       "((7895, 40960), 7895)"
      ]
     },
     "execution_count": 10,
     "metadata": {},
     "output_type": "execute_result"
    }
   ],
   "source": [
    "images_training = np.stack(images_training)\n",
    "\n",
    "images_training.shape, dataTraining.shape[0]"
   ]
  },
  {
   "cell_type": "code",
   "execution_count": 12,
   "metadata": {},
   "outputs": [
    {
     "name": "stderr",
     "output_type": "stream",
     "text": [
      "100%|██████████| 3383/3383 [00:35<00:00, 94.63it/s]\n"
     ]
    },
    {
     "data": {
      "text/plain": [
       "((3383, 40960), 3383)"
      ]
     },
     "execution_count": 12,
     "metadata": {},
     "output_type": "execute_result"
    }
   ],
   "source": [
    "images_testing = []\n",
    "for i in tqdm(dataTesting.index):\n",
    "    images_testing.append(io.imread(os.path.join(path,'data','images_resize_gray', str(i) + '_resize_gray.jpeg')).flatten())\n",
    "\n",
    "images_testing = np.stack(images_testing)\n",
    "\n",
    "images_testing.shape, dataTesting.shape[0]"
   ]
  },
  {
   "cell_type": "markdown",
   "metadata": {},
   "source": [
    "#  <span style=\"color:orange\">1. Machine Learning algorithm </span>"
   ]
  },
  {
   "cell_type": "markdown",
   "metadata": {},
   "source": [
    "## Apply PCA"
   ]
  },
  {
   "cell_type": "code",
   "execution_count": 20,
   "metadata": {
    "collapsed": true
   },
   "outputs": [],
   "source": [
    "pca = PCA(n_components=32)\n",
    "images_training_pca = pca.fit_transform(images_training)"
   ]
  },
  {
   "cell_type": "code",
   "execution_count": 21,
   "metadata": {
    "collapsed": true
   },
   "outputs": [],
   "source": [
    "images_testing_pca = pca.transform(images_testing)"
   ]
  },
  {
   "cell_type": "markdown",
   "metadata": {},
   "source": [
    "this solution can turn into good results, however we consider that for image classification it is vital to perform a data augmentation, due to computer limitations we did not used it in this aprticular project and focused on the text features"
   ]
  },
  {
   "cell_type": "markdown",
   "metadata": {},
   "source": [
    "# Create y"
   ]
  },
  {
   "cell_type": "code",
   "execution_count": 19,
   "metadata": {
    "collapsed": true
   },
   "outputs": [],
   "source": [
    "dataTraining['genres'] = dataTraining['genres'].map(lambda x: eval(x))\n",
    "le = MultiLabelBinarizer()\n",
    "y_genres = le.fit_transform(dataTraining['genres'])"
   ]
  },
  {
   "cell_type": "code",
   "execution_count": 23,
   "metadata": {
    "collapsed": true
   },
   "outputs": [],
   "source": [
    "X_train, X_test, y_train_genres, y_test_genres = train_test_split(images_training_pca, y_genres, test_size=0.33, random_state=42)"
   ]
  },
  {
   "cell_type": "markdown",
   "metadata": {},
   "source": [
    "# Train multi-class multi-label model"
   ]
  },
  {
   "cell_type": "code",
   "execution_count": 24,
   "metadata": {
    "collapsed": true
   },
   "outputs": [],
   "source": [
    "clf = OneVsRestClassifier(RandomForestClassifier(n_jobs=-1, n_estimators=100, max_depth=10, random_state=42))"
   ]
  },
  {
   "cell_type": "code",
   "execution_count": 25,
   "metadata": {},
   "outputs": [
    {
     "data": {
      "text/plain": [
       "OneVsRestClassifier(estimator=RandomForestClassifier(bootstrap=True, class_weight=None, criterion='gini',\n",
       "            max_depth=10, max_features='auto', max_leaf_nodes=None,\n",
       "            min_impurity_decrease=0.0, min_impurity_split=None,\n",
       "            min_samples_leaf=1, min_samples_split=2,\n",
       "            min_weight_fraction_leaf=0.0, n_estimators=100, n_jobs=-1,\n",
       "            oob_score=False, random_state=42, verbose=0, warm_start=False),\n",
       "          n_jobs=1)"
      ]
     },
     "execution_count": 25,
     "metadata": {},
     "output_type": "execute_result"
    }
   ],
   "source": [
    "clf.fit(X_train, y_train_genres)"
   ]
  },
  {
   "cell_type": "code",
   "execution_count": 26,
   "metadata": {
    "collapsed": true
   },
   "outputs": [],
   "source": [
    "y_pred_genres = clf.predict_proba(X_test)"
   ]
  },
  {
   "cell_type": "markdown",
   "metadata": {},
   "source": [
    "In this matter we would like to comment that we used several other techniques such as GaussianNB and MLKNN, however Python kept on prompting a sparsity error that we could not fix at the time, it could be due to the nature of the data, we consider in the future to enable augmentation to avoid this mishappen.\n",
    "\n",
    "we uploaded this model to Kaggle and obtained the average results, we strongly expect that the CNN can yield better overall performance."
   ]
  },
  {
   "cell_type": "code",
   "execution_count": 27,
   "metadata": {},
   "outputs": [
    {
     "data": {
      "text/plain": [
       "0.5832413775124384"
      ]
     },
     "execution_count": 27,
     "metadata": {},
     "output_type": "execute_result"
    }
   ],
   "source": [
    "roc_auc_score(y_test_genres, y_pred_genres, average='macro')"
   ]
  },
  {
   "cell_type": "code",
   "execution_count": null,
   "metadata": {
    "collapsed": true
   },
   "outputs": [],
   "source": [
    "cols = ['p_Action', 'p_Adventure', 'p_Animation', 'p_Biography', 'p_Comedy', 'p_Crime', 'p_Documentary', 'p_Drama', 'p_Family',\n",
    "        'p_Fantasy', 'p_Film-Noir', 'p_History', 'p_Horror', 'p_Music', 'p_Musical', 'p_Mystery', 'p_News', 'p_Romance',\n",
    "        'p_Sci-Fi', 'p_Short', 'p_Sport', 'p_Thriller', 'p_War', 'p_Western']\n",
    "\n",
    "y_pred_test_genres = clf.predict_proba(images_testing_pca)\n",
    "\n",
    "pd.DataFrame(y_pred_test_genres, index=dataTesting.index, columns=cols).to_csv('pred_img_RF.csv', index_label='ID')"
   ]
  },
  {
   "cell_type": "markdown",
   "metadata": {},
   "source": [
    "#  <span style=\"color:orange\">2. Deep Learning algorithm </span>"
   ]
  },
  {
   "cell_type": "markdown",
   "metadata": {},
   "source": [
    "Read images"
   ]
  },
  {
   "cell_type": "markdown",
   "metadata": {},
   "source": [
    "in this Part we used a technique that allowed us to improve the computing performance, in principle we reduced the size of the image into a 32 x 32 and imported one by one via a for loop, later we append all those images into the set and used numpy stack to concatenate such data into a vector for the sake of inputting into the CNN. we operated in the same way for the y variable vector."
   ]
  },
  {
   "cell_type": "code",
   "execution_count": 13,
   "metadata": {
    "collapsed": true
   },
   "outputs": [],
   "source": [
    "images=os.listdir(os.path.join(path,'data', 'images_resize_gray'))\n",
    "indx= dataTraining.index"
   ]
  },
  {
   "cell_type": "code",
   "execution_count": 16,
   "metadata": {
    "collapsed": true
   },
   "outputs": [],
   "source": [
    "from keras.preprocessing import image\n",
    "\n",
    "images_w = []\n",
    "for img in images:\n",
    "    img_path=os.path.join(path,'data', 'images_resize_gray', img)  \n",
    "    img = image.load_img(img_path, target_size=(32, 32))\n",
    "    x = image.img_to_array(img)\n",
    "    x = np.expand_dims(x, axis=0)\n",
    "    x = preprocess_input(x)\n",
    "    images_w.append(x)"
   ]
  },
  {
   "cell_type": "code",
   "execution_count": 17,
   "metadata": {
    "collapsed": true
   },
   "outputs": [],
   "source": [
    "x_data=images_w\n",
    "x_data = np.vstack( x_data )\n",
    "x_data = x_data[indx]"
   ]
  },
  {
   "cell_type": "code",
   "execution_count": 20,
   "metadata": {
    "collapsed": true
   },
   "outputs": [],
   "source": [
    "y_genres = np.vstack( y_genres )"
   ]
  },
  {
   "cell_type": "code",
   "execution_count": 31,
   "metadata": {
    "collapsed": true
   },
   "outputs": [],
   "source": [
    "X_train, X_test, y_train, y_test = train_test_split(x_data, y_genres, test_size=0.30, random_state=13)"
   ]
  },
  {
   "cell_type": "markdown",
   "metadata": {},
   "source": [
    "\n",
    "## Transfer Learning"
   ]
  },
  {
   "cell_type": "markdown",
   "metadata": {},
   "source": [
    "we constructed the matrix based by means of combining a NN we used in the CIFAR project worked previously in class with some layers of the well know model VGG16, we tried to use lighter models such as mobileNET and resNET, but the outcome was not accurate to our concept, we felt more comfortable with VGG16 using imagenet weights and led to the best results in terms of CP/time available. we used the hyperbolical tangent activation to avoid the CNN to get stuck. \n",
    "the model as follows:"
   ]
  },
  {
   "cell_type": "code",
   "execution_count": 29,
   "metadata": {
    "collapsed": true
   },
   "outputs": [],
   "source": [
    "#from keras_applications.mobilenet import MobileNet\n",
    "from keras.applications.vgg16 import VGG16\n"
   ]
  },
  {
   "cell_type": "code",
   "execution_count": 30,
   "metadata": {
    "collapsed": true
   },
   "outputs": [],
   "source": [
    "model_transfer = VGG16(weights='imagenet', include_top=False)"
   ]
  },
  {
   "cell_type": "code",
   "execution_count": 33,
   "metadata": {},
   "outputs": [
    {
     "data": {
      "text/plain": [
       "(5526, 1, 1, 512)"
      ]
     },
     "execution_count": 33,
     "metadata": {},
     "output_type": "execute_result"
    }
   ],
   "source": [
    "X_train_trans = model_transfer.predict(X_train) #Crea la nueva X_train basada en VGG16\n",
    "X_train_trans.shape"
   ]
  },
  {
   "cell_type": "code",
   "execution_count": 34,
   "metadata": {},
   "outputs": [
    {
     "data": {
      "text/plain": [
       "(2369, 1, 1, 512)"
      ]
     },
     "execution_count": 34,
     "metadata": {},
     "output_type": "execute_result"
    }
   ],
   "source": [
    "X_test_trans = model_transfer.predict(X_test) #Crea la nueva X_test basada en VGG16\n",
    "X_test_trans.shape"
   ]
  },
  {
   "cell_type": "markdown",
   "metadata": {},
   "source": [
    " <span style=\"color:orange\">Model 1</span>"
   ]
  },
  {
   "cell_type": "code",
   "execution_count": 46,
   "metadata": {
    "scrolled": true
   },
   "outputs": [
    {
     "name": "stdout",
     "output_type": "stream",
     "text": [
      "_________________________________________________________________\n",
      "Layer (type)                 Output Shape              Param #   \n",
      "=================================================================\n",
      "flatten_4 (Flatten)          (None, 512)               0         \n",
      "_________________________________________________________________\n",
      "dense_7 (Dense)              (None, 512)               262656    \n",
      "_________________________________________________________________\n",
      "activation_7 (Activation)    (None, 512)               0         \n",
      "_________________________________________________________________\n",
      "dropout_4 (Dropout)          (None, 512)               0         \n",
      "_________________________________________________________________\n",
      "dense_8 (Dense)              (None, 24)                12312     \n",
      "_________________________________________________________________\n",
      "activation_8 (Activation)    (None, 24)                0         \n",
      "=================================================================\n",
      "Total params: 274,968\n",
      "Trainable params: 274,968\n",
      "Non-trainable params: 0\n",
      "_________________________________________________________________\n"
     ]
    }
   ],
   "source": [
    "# Create model\n",
    "\n",
    "model = Sequential()\n",
    "model.add(Flatten(input_shape=(1,1,512)))\n",
    "\n",
    "model.add(Dense(units=512, input_dim=1))\n",
    "model.add(Activation('tanh'))\n",
    "\n",
    "model.add(Dropout(0.5))      \n",
    "\n",
    "model.add(Dense(units=24, input_dim=1))\n",
    "model.add(Activation('softmax'))\n",
    "\n",
    "model.compile(loss='categorical_crossentropy', optimizer='rmsprop', metrics=['accuracy'])\n",
    "\n",
    "# model summary\n",
    "model.summary()"
   ]
  },
  {
   "cell_type": "code",
   "execution_count": 47,
   "metadata": {
    "scrolled": false
   },
   "outputs": [
    {
     "data": {
      "image/png": "[encoded data removed]",
      "text/plain": [
       "<matplotlib.figure.Figure at 0x211237e10f0>"
      ]
     },
     "metadata": {},
     "output_type": "display_data"
    },
    {
     "data": {
      "text/plain": [
       "<keras.callbacks.History at 0x211236c3f28>"
      ]
     },
     "execution_count": 47,
     "metadata": {},
     "output_type": "execute_result"
    }
   ],
   "source": [
    "# Fit the model other way\n",
    "\n",
    "from livelossplot import PlotLossesKeras\n",
    "%matplotlib inline\n",
    "\n",
    "model.fit(X_train_trans, y_train, validation_data=[X_test_trans, y_test], \n",
    "          batch_size=1, epochs=3, verbose=2,\n",
    "          callbacks=[PlotLossesKeras()])"
   ]
  },
  {
   "cell_type": "markdown",
   "metadata": {},
   "source": [
    "its interesting to note the improved accuracy of the model in the validation set"
   ]
  },
  {
   "cell_type": "code",
   "execution_count": 44,
   "metadata": {},
   "outputs": [
    {
     "data": {
      "text/plain": [
       "(7895, 1, 1, 512)"
      ]
     },
     "execution_count": 44,
     "metadata": {},
     "output_type": "execute_result"
    }
   ],
   "source": [
    "X_data_trans = model_transfer.predict(x_data) #Crea la nueva X_train basada en VGG16\n",
    "X_data_trans.shape"
   ]
  },
  {
   "cell_type": "code",
   "execution_count": 50,
   "metadata": {},
   "outputs": [
    {
     "name": "stdout",
     "output_type": "stream",
     "text": [
      "Epoch 1/30\n",
      " - 2s - loss: 7.7915 - acc: 0.2098\n",
      "Epoch 2/30\n",
      " - 2s - loss: 7.7562 - acc: 0.2171\n",
      "Epoch 3/30\n",
      " - 2s - loss: 7.7614 - acc: 0.2176\n",
      "Epoch 4/30\n",
      " - 2s - loss: 7.7443 - acc: 0.2119\n",
      "Epoch 5/30\n",
      " - 2s - loss: 7.7288 - acc: 0.2047\n",
      "Epoch 6/30\n",
      " - 2s - loss: 7.7274 - acc: 0.2041\n",
      "Epoch 7/30\n",
      " - 2s - loss: 7.7151 - acc: 0.2086\n",
      "Epoch 8/30\n",
      " - 2s - loss: 7.7134 - acc: 0.2189\n",
      "Epoch 9/30\n",
      " - 2s - loss: 7.7035 - acc: 0.2105\n",
      "Epoch 10/30\n",
      " - 2s - loss: 7.7075 - acc: 0.2117\n",
      "Epoch 11/30\n",
      " - 2s - loss: 7.7059 - acc: 0.2105\n",
      "Epoch 12/30\n",
      " - 2s - loss: 7.7015 - acc: 0.2224\n",
      "Epoch 13/30\n",
      " - 2s - loss: 7.6982 - acc: 0.2127\n",
      "Epoch 14/30\n",
      " - 2s - loss: 7.6988 - acc: 0.2141\n",
      "Epoch 15/30\n",
      " - 2s - loss: 7.6847 - acc: 0.2130\n",
      "Epoch 16/30\n",
      " - 2s - loss: 7.6829 - acc: 0.2204\n",
      "Epoch 17/30\n",
      " - 2s - loss: 7.6840 - acc: 0.2176\n",
      "Epoch 18/30\n",
      " - 2s - loss: 7.6918 - acc: 0.2148\n",
      "Epoch 19/30\n",
      " - 2s - loss: 7.6992 - acc: 0.2146\n",
      "Epoch 20/30\n",
      " - 2s - loss: 7.6851 - acc: 0.2030\n",
      "Epoch 21/30\n",
      " - 2s - loss: 7.6788 - acc: 0.2104\n",
      "Epoch 22/30\n",
      " - 2s - loss: 7.6693 - acc: 0.2158\n",
      "Epoch 23/30\n",
      " - 2s - loss: 7.6681 - acc: 0.2172\n",
      "Epoch 24/30\n",
      " - 2s - loss: 7.6723 - acc: 0.2143\n",
      "Epoch 25/30\n",
      " - 2s - loss: 7.6655 - acc: 0.2123\n",
      "Epoch 26/30\n",
      " - 2s - loss: 7.6744 - acc: 0.2108\n",
      "Epoch 27/30\n",
      " - 2s - loss: 7.6598 - acc: 0.2143\n",
      "Epoch 28/30\n",
      " - 2s - loss: 7.6707 - acc: 0.2139\n",
      "Epoch 29/30\n",
      " - 2s - loss: 7.6513 - acc: 0.2134\n",
      "Epoch 30/30\n",
      " - 2s - loss: 7.6434 - acc: 0.2151\n"
     ]
    },
    {
     "data": {
      "text/plain": [
       "<keras.callbacks.History at 0x2112be667b8>"
      ]
     },
     "execution_count": 50,
     "metadata": {},
     "output_type": "execute_result"
    }
   ],
   "source": [
    "model.fit(X_data_trans, y_genres, epochs=30, verbose = 2)"
   ]
  },
  {
   "cell_type": "code",
   "execution_count": 37,
   "metadata": {
    "collapsed": true
   },
   "outputs": [],
   "source": [
    "## Testing Kaggle\n",
    "indxt = dataTesting.index\n",
    "X_test_ka = images_w\n",
    "X_test_ka = np.vstack( X_test_ka )\n",
    "X_test_ka = X_test_ka[indxt]"
   ]
  },
  {
   "cell_type": "code",
   "execution_count": 39,
   "metadata": {},
   "outputs": [
    {
     "data": {
      "text/plain": [
       "(3383, 1, 1, 512)"
      ]
     },
     "execution_count": 39,
     "metadata": {},
     "output_type": "execute_result"
    }
   ],
   "source": [
    "X_test_trans_ka = model_transfer.predict(X_test_ka) #Crea la nueva X_train basada en VGG16\n",
    "X_test_trans_ka.shape"
   ]
  },
  {
   "cell_type": "code",
   "execution_count": 51,
   "metadata": {
    "collapsed": true
   },
   "outputs": [],
   "source": [
    "cols = ['p_Action', 'p_Adventure', 'p_Animation', 'p_Biography', 'p_Comedy', 'p_Crime', 'p_Documentary', 'p_Drama', 'p_Family',\n",
    "        'p_Fantasy', 'p_Film-Noir', 'p_History', 'p_Horror', 'p_Music', 'p_Musical', 'p_Mystery', 'p_News', 'p_Romance',\n",
    "        'p_Sci-Fi', 'p_Short', 'p_Sport', 'p_Thriller', 'p_War', 'p_Western']\n",
    "\n",
    "y_pred_test_genres =  model.predict(X_test_trans_ka)\n",
    "\n",
    "pd.DataFrame(y_pred_test_genres, index=dataTesting.index, columns=cols).to_csv('pred_img_Trans.csv', index_label='ID')"
   ]
  },
  {
   "cell_type": "markdown",
   "metadata": {},
   "source": [
    "With the previous model was obtained in <span style=\"color:blue\">KAGGLE 0.50813</span>"
   ]
  },
  {
   "cell_type": "markdown",
   "metadata": {},
   "source": [
    "we ran 30 epochs of the model, but is quite interesting to see that the model is not improved drastically we consider this could be due to the data size or the learning rate, in the future we will tune those. the model in Kaggle yielded worst result than the ML approach, we are going to evaluate some other models:"
   ]
  },
  {
   "cell_type": "markdown",
   "metadata": {},
   "source": [
    " <span style=\"color:orange\">Model 2</span>"
   ]
  },
  {
   "cell_type": "code",
   "execution_count": 52,
   "metadata": {},
   "outputs": [
    {
     "name": "stdout",
     "output_type": "stream",
     "text": [
      "_________________________________________________________________\n",
      "Layer (type)                 Output Shape              Param #   \n",
      "=================================================================\n",
      "flatten_5 (Flatten)          (None, 512)               0         \n",
      "_________________________________________________________________\n",
      "dense_9 (Dense)              (None, 256)               131328    \n",
      "_________________________________________________________________\n",
      "activation_9 (Activation)    (None, 256)               0         \n",
      "_________________________________________________________________\n",
      "dropout_5 (Dropout)          (None, 256)               0         \n",
      "_________________________________________________________________\n",
      "dense_10 (Dense)             (None, 24)                6168      \n",
      "_________________________________________________________________\n",
      "activation_10 (Activation)   (None, 24)                0         \n",
      "=================================================================\n",
      "Total params: 137,496\n",
      "Trainable params: 137,496\n",
      "Non-trainable params: 0\n",
      "_________________________________________________________________\n"
     ]
    }
   ],
   "source": [
    "\n",
    "from keras.models import Sequential\n",
    "from keras.layers import Dense, Dropout, Activation, Flatten\n",
    "\n",
    "model_2 = Sequential()\n",
    "model_2.add(Flatten(input_shape=(1,1,512)))\n",
    "\n",
    "\n",
    "model_2.add(Dense(units=256, input_dim=1))\n",
    "model_2.add(Activation('relu'))\n",
    "\n",
    "model_2.add(Dropout(0.5))      \n",
    "\n",
    "model_2.add(Dense(units=24, input_dim=1))\n",
    "model_2.add(Activation('softmax'))\n",
    "\n",
    "model_2.compile(loss='categorical_crossentropy', optimizer='rmsprop', metrics=['accuracy'])\n",
    "# model summary\n",
    "model_2.summary()"
   ]
  },
  {
   "cell_type": "code",
   "execution_count": 54,
   "metadata": {},
   "outputs": [
    {
     "name": "stdout",
     "output_type": "stream",
     "text": [
      "Epoch 1/30\n",
      " - 1s - loss: 7.5012 - acc: 0.2082\n",
      "Epoch 2/30\n",
      " - 1s - loss: 7.4703 - acc: 0.2056\n",
      "Epoch 3/30\n",
      " - 1s - loss: 7.4498 - acc: 0.2063\n",
      "Epoch 4/30\n",
      " - 1s - loss: 7.4615 - acc: 0.2061\n",
      "Epoch 5/30\n",
      " - 1s - loss: 7.4331 - acc: 0.2067\n",
      "Epoch 6/30\n",
      " - 1s - loss: 7.4159 - acc: 0.2115\n",
      "Epoch 7/30\n",
      " - 1s - loss: 7.4124 - acc: 0.2070\n",
      "Epoch 8/30\n",
      " - 1s - loss: 7.4236 - acc: 0.2119\n",
      "Epoch 9/30\n",
      " - 1s - loss: 7.4204 - acc: 0.2098\n",
      "Epoch 10/30\n",
      " - 1s - loss: 7.3970 - acc: 0.2092\n",
      "Epoch 11/30\n",
      " - 1s - loss: 7.4024 - acc: 0.2067\n",
      "Epoch 12/30\n",
      " - 1s - loss: 7.4012 - acc: 0.2070\n",
      "Epoch 13/30\n",
      " - 1s - loss: 7.4098 - acc: 0.2046\n",
      "Epoch 14/30\n",
      " - 1s - loss: 7.3998 - acc: 0.2079\n",
      "Epoch 15/30\n",
      " - 1s - loss: 7.3935 - acc: 0.2079\n",
      "Epoch 16/30\n",
      " - 1s - loss: 7.3913 - acc: 0.2089\n",
      "Epoch 17/30\n",
      " - 1s - loss: 7.3925 - acc: 0.2085\n",
      "Epoch 18/30\n",
      " - 1s - loss: 7.3850 - acc: 0.2091\n",
      "Epoch 19/30\n",
      " - 1s - loss: 7.3712 - acc: 0.2081\n",
      "Epoch 20/30\n",
      " - 1s - loss: 7.3747 - acc: 0.2087\n",
      "Epoch 21/30\n",
      " - 1s - loss: 7.3765 - acc: 0.2113\n",
      "Epoch 22/30\n",
      " - 1s - loss: 7.3859 - acc: 0.2101\n",
      "Epoch 23/30\n",
      " - 1s - loss: 7.3822 - acc: 0.2106\n",
      "Epoch 24/30\n",
      " - 1s - loss: 7.3873 - acc: 0.2110\n",
      "Epoch 25/30\n",
      " - 1s - loss: 7.3785 - acc: 0.2103\n",
      "Epoch 26/30\n",
      " - 1s - loss: 7.3823 - acc: 0.2077\n",
      "Epoch 27/30\n",
      " - 1s - loss: 7.3710 - acc: 0.2113\n",
      "Epoch 28/30\n",
      " - 1s - loss: 7.3940 - acc: 0.2080\n",
      "Epoch 29/30\n",
      " - 1s - loss: 7.3811 - acc: 0.2086\n",
      "Epoch 30/30\n",
      " - 1s - loss: 7.3772 - acc: 0.2085\n"
     ]
    },
    {
     "data": {
      "text/plain": [
       "<keras.callbacks.History at 0x2111f0ca550>"
      ]
     },
     "execution_count": 54,
     "metadata": {},
     "output_type": "execute_result"
    }
   ],
   "source": [
    "model_2.fit(X_data_trans, y_genres, epochs=30, verbose = 2)"
   ]
  },
  {
   "cell_type": "code",
   "execution_count": 55,
   "metadata": {
    "collapsed": true
   },
   "outputs": [],
   "source": [
    "cols = ['p_Action', 'p_Adventure', 'p_Animation', 'p_Biography', 'p_Comedy', 'p_Crime', 'p_Documentary', 'p_Drama', 'p_Family',\n",
    "        'p_Fantasy', 'p_Film-Noir', 'p_History', 'p_Horror', 'p_Music', 'p_Musical', 'p_Mystery', 'p_News', 'p_Romance',\n",
    "        'p_Sci-Fi', 'p_Short', 'p_Sport', 'p_Thriller', 'p_War', 'p_Western']\n",
    "\n",
    "y_pred_test_genres =  model_2.predict(X_test_trans_ka)\n",
    "\n",
    "pd.DataFrame(y_pred_test_genres, index=dataTesting.index, columns=cols).to_csv('pred_img_Trans_2.csv', index_label='ID')"
   ]
  },
  {
   "cell_type": "markdown",
   "metadata": {},
   "source": [
    "With the previous model was obtained in <span style=\"color:blue\">KAGGLE 0.51301</span>"
   ]
  },
  {
   "cell_type": "markdown",
   "metadata": {},
   "source": [
    "We see that the accuracy did not improve drsatically even tough we change the activation to RELU, we consider that the CNN is doing the best with the Fed Data but is not enough."
   ]
  },
  {
   "cell_type": "markdown",
   "metadata": {},
   "source": [
    " <span style=\"color:orange\">Model 3</span>"
   ]
  },
  {
   "cell_type": "code",
   "execution_count": 76,
   "metadata": {
    "collapsed": true
   },
   "outputs": [],
   "source": [
    "from keras.layers.convolutional import Conv2D\n",
    "from keras.layers import MaxPooling2D\n",
    "\n",
    "model_3 = Sequential()\n",
    "model_3.add(Conv2D(32, (3,3), padding='same',input_shape=x_data.shape[1:]))\n",
    "model_3.add(Activation('relu'))\n",
    "model_3.add(MaxPooling2D (2,2))\n",
    "model_3.add(Flatten())\n",
    "model_3.add(Dropout(0.5))\n",
    "\n",
    "\n",
    "model_3.add(Dense(24))\n",
    "model_3.add(Activation('softmax'))\n",
    "\n",
    "\n",
    "model_3.compile(loss='categorical_crossentropy', optimizer='rmsprop', metrics=['accuracy'])"
   ]
  },
  {
   "cell_type": "code",
   "execution_count": 78,
   "metadata": {},
   "outputs": [
    {
     "name": "stdout",
     "output_type": "stream",
     "text": [
      "Epoch 1/30\n",
      " - 96s - loss: 36.0651 - acc: 0.2091\n",
      "Epoch 2/30\n",
      " - 15s - loss: 35.9539 - acc: 0.1977\n",
      "Epoch 3/30\n",
      " - 15s - loss: 35.9539 - acc: 0.1977\n",
      "Epoch 4/30\n",
      " - 15s - loss: 35.9539 - acc: 0.1977\n",
      "Epoch 5/30\n",
      " - 15s - loss: 35.9539 - acc: 0.1977\n",
      "Epoch 6/30\n",
      " - 15s - loss: 35.9539 - acc: 0.1977\n",
      "Epoch 7/30\n",
      " - 15s - loss: 35.9539 - acc: 0.1977\n",
      "Epoch 8/30\n",
      " - 15s - loss: 35.9539 - acc: 0.1977\n",
      "Epoch 9/30\n",
      " - 15s - loss: 35.9539 - acc: 0.1977\n",
      "Epoch 10/30\n",
      " - 15s - loss: 35.9539 - acc: 0.1977\n",
      "Epoch 11/30\n",
      " - 15s - loss: 35.9539 - acc: 0.1977\n",
      "Epoch 12/30\n",
      " - 15s - loss: 35.9539 - acc: 0.1977\n",
      "Epoch 13/30\n",
      " - 15s - loss: 35.9539 - acc: 0.1977\n",
      "Epoch 14/30\n",
      " - 15s - loss: 35.9539 - acc: 0.1977\n",
      "Epoch 15/30\n",
      " - 15s - loss: 35.9539 - acc: 0.1977\n",
      "Epoch 16/30\n",
      " - 15s - loss: 35.9539 - acc: 0.1977\n",
      "Epoch 17/30\n",
      " - 16s - loss: 35.9539 - acc: 0.1977\n",
      "Epoch 18/30\n",
      " - 15s - loss: 35.9539 - acc: 0.1977\n",
      "Epoch 19/30\n",
      " - 15s - loss: 35.9539 - acc: 0.1977\n",
      "Epoch 20/30\n",
      " - 15s - loss: 35.9539 - acc: 0.1977\n",
      "Epoch 21/30\n",
      " - 15s - loss: 35.9539 - acc: 0.1977\n",
      "Epoch 22/30\n",
      " - 15s - loss: 35.9539 - acc: 0.1977\n",
      "Epoch 23/30\n",
      " - 15s - loss: 35.9539 - acc: 0.1977\n",
      "Epoch 24/30\n",
      " - 15s - loss: 35.9539 - acc: 0.1977\n",
      "Epoch 25/30\n",
      " - 14s - loss: 35.9539 - acc: 0.1977\n",
      "Epoch 26/30\n",
      " - 15s - loss: 35.9539 - acc: 0.1977\n",
      "Epoch 27/30\n",
      " - 15s - loss: 35.9539 - acc: 0.1977\n",
      "Epoch 28/30\n",
      " - 15s - loss: 35.9539 - acc: 0.1977\n",
      "Epoch 29/30\n",
      " - 15s - loss: 35.9539 - acc: 0.1977\n",
      "Epoch 30/30\n",
      " - 15s - loss: 35.9539 - acc: 0.1977\n"
     ]
    },
    {
     "data": {
      "text/plain": [
       "<keras.callbacks.History at 0x2111e49cd30>"
      ]
     },
     "execution_count": 78,
     "metadata": {},
     "output_type": "execute_result"
    }
   ],
   "source": [
    "model_3.fit(x_data, y_genres, epochs=30, verbose = 2)"
   ]
  },
  {
   "cell_type": "code",
   "execution_count": 79,
   "metadata": {
    "collapsed": true
   },
   "outputs": [],
   "source": [
    "cols = ['p_Action', 'p_Adventure', 'p_Animation', 'p_Biography', 'p_Comedy', 'p_Crime', 'p_Documentary', 'p_Drama', 'p_Family',\n",
    "        'p_Fantasy', 'p_Film-Noir', 'p_History', 'p_Horror', 'p_Music', 'p_Musical', 'p_Mystery', 'p_News', 'p_Romance',\n",
    "        'p_Sci-Fi', 'p_Short', 'p_Sport', 'p_Thriller', 'p_War', 'p_Western']\n",
    "\n",
    "y_pred_test_genres =  model_3.predict(X_test_ka)\n",
    "\n",
    "pd.DataFrame(y_pred_test_genres, index=dataTesting.index, columns=cols).to_csv('pred_img_Trans_3.csv', index_label='ID')"
   ]
  },
  {
   "cell_type": "markdown",
   "metadata": {},
   "source": [
    "in this last model W/o transfer learning the accuracy did not improve and the error increased dramatically, we conclude that the CNN is fed Correctly, since we are emulating the job done in the CIFAR project, however the image data seems to be the issue, also imagenet has many bird images and animal images into it that can cause to perform better on the bird challenge and led to not so good reults into this particular challenge.\n",
    "Another important limitation is the computer power and setup we used for these conditions, it is strongly recommended that in order to outperform the model one must augment the images set also to avoid using a shallow network, these two reccomendations definitely require to use GPU instances."
   ]
  },
  {
   "cell_type": "code",
   "execution_count": null,
   "metadata": {
    "collapsed": true
   },
   "outputs": [],
   "source": []
  }
 ],
 "metadata": {
  "kernelspec": {
   "display_name": "Python 3",
   "language": "python",
   "name": "python3"
  },
  "language_info": {
   "codemirror_mode": {
    "name": "ipython",
    "version": 3
   },
   "file_extension": ".py",
   "mimetype": "text/x-python",
   "name": "python",
   "nbconvert_exporter": "python",
   "pygments_lexer": "ipython3",
   "version": "3.6.1"
  }
 },
 "nbformat": 4,
 "nbformat_minor": 2
}
